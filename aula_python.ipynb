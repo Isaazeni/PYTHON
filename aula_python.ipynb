{
  "nbformat": 4,
  "nbformat_minor": 0,
  "metadata": {
    "colab": {
      "provenance": [],
      "authorship_tag": "ABX9TyPLYWttsCQh3ZZhH8/R5s/8",
      "include_colab_link": true
    },
    "kernelspec": {
      "name": "python3",
      "display_name": "Python 3"
    },
    "language_info": {
      "name": "python"
    }
  },
  "cells": [
    {
      "cell_type": "markdown",
      "metadata": {
        "id": "view-in-github",
        "colab_type": "text"
      },
      "source": [
        "<a href=\"https://colab.research.google.com/github/Isaazeni/PYTHON/blob/main/aula_python.ipynb\" target=\"_parent\"><img src=\"https://colab.research.google.com/assets/colab-badge.svg\" alt=\"Open In Colab\"/></a>"
      ]
    },
    {
      "cell_type": "code",
      "execution_count": null,
      "metadata": {
        "id": "wssouf0Khbg7"
      },
      "outputs": [],
      "source": []
    },
    {
      "cell_type": "markdown",
      "source": [
        "#**Aula 1** ⛳ 🥉 ⚽"
      ],
      "metadata": {
        "id": "usjnGcCAhnvk"
      }
    },
    {
      "cell_type": "code",
      "source": [
        "print (\"I competição de programação da start\")\n",
        "ano = \"IX\"\n",
        "print (\"{ano} competição de programa da start\")"
      ],
      "metadata": {
        "id": "vGbo4A2MiR2c"
      },
      "execution_count": null,
      "outputs": []
    },
    {
      "cell_type": "markdown",
      "source": [
        "#**Aula 2**  ⛽ ✨ 🚲"
      ],
      "metadata": {
        "id": "q6bQO9Wsotm1"
      }
    },
    {
      "cell_type": "code",
      "source": [
        "livro_ficcao = 8\n",
        "livro_n_ficcao = 10\n",
        "livro_infantil = 6\n",
        "pontos_rodrigo = livro_ficcao + livro_n_ficcao + livro_infantil\n",
        "pontos_ana = 2 * livro_ficcao + 5 * livro_infantil\n",
        "pontos_totais = pontos_rodrigo + pontos_ana\n",
        "print(f\"Os pontos totais do Rodrigo são {pontos_rodrigo}\")\n",
        "print(f\"Os pontos totais do Ana são {pontos_ana}\")\n",
        "print(f\"Os pontos totais do Rodrigo e de ana são {pontos_totais}\")"
      ],
      "metadata": {
        "colab": {
          "base_uri": "https://localhost:8080/"
        },
        "id": "LnjlKXAPo9tI",
        "outputId": "0cc7a925-97ac-4390-cfb0-9d604ffd3e51"
      },
      "execution_count": null,
      "outputs": [
        {
          "output_type": "stream",
          "name": "stdout",
          "text": [
            "Os pontos totais do Rodrigo são 24\n",
            "Os pontos totais do Ana são 46\n",
            "Os pontos totais do Rodrigo e de ana são 70\n"
          ]
        }
      ]
    },
    {
      "cell_type": "markdown",
      "source": [
        "#**Aula 3 Tabuada** 1 ❌ 8"
      ],
      "metadata": {
        "id": "BVx1tKywsdxO"
      }
    },
    {
      "cell_type": "code",
      "source": [
        "def tabuada(numero):\n",
        "    for contador in range(1, 11):  # Gera números de 1 a 10\n",
        "        print(f\"{numero} x {contador} = {numero * contador}\")\n",
        "numero = int(input(\"Digite um número para ver sua tabuada: \"))\n",
        "tabuada(numero)"
      ],
      "metadata": {
        "colab": {
          "base_uri": "https://localhost:8080/"
        },
        "id": "9kjIS8ZwsqGZ",
        "outputId": "55629b47-c588-4dcb-bea8-45d2eb849e8f"
      },
      "execution_count": null,
      "outputs": [
        {
          "output_type": "stream",
          "name": "stdout",
          "text": [
            "Digite um número para ver sua tabuada: 3\n",
            "3 x 1 = 3\n",
            "3 x 2 = 6\n",
            "3 x 3 = 9\n",
            "3 x 4 = 12\n",
            "3 x 5 = 15\n",
            "3 x 6 = 18\n",
            "3 x 7 = 21\n",
            "3 x 8 = 24\n",
            "3 x 9 = 27\n",
            "3 x 10 = 30\n"
          ]
        }
      ]
    },
    {
      "cell_type": "markdown",
      "source": [
        "#**Aula 4 IMC** 🧟 👼 👽"
      ],
      "metadata": {
        "id": "k2aL5PMdu4gy"
      }
    },
    {
      "cell_type": "code",
      "source": [
        "peso = float(input(\"Digite seu peso (em kg): \"))\n",
        "altura = float(input(\"Digite sua altura (em metros): \"))\n",
        "imc = peso / (altura ** 2)\n",
        "print(f\"\\nSeu IMC é: {imc:.2f}\")\n",
        "if imc < 18.5:\n",
        "    print(\"Você está abaixo do peso.\")\n",
        "elif 18.5 <= imc < 25:\n",
        "    print(\"Você está no peso ideal.\")\n",
        "elif 25 <= imc < 30:\n",
        "    print(\"Você está com sobrepeso.\")\n",
        "else:\n",
        "    print(\"Você está acima do peso.\")"
      ],
      "metadata": {
        "colab": {
          "base_uri": "https://localhost:8080/"
        },
        "id": "DYcOZJ4_vI8s",
        "outputId": "0445652e-c7d4-41da-f64f-13803db27498"
      },
      "execution_count": null,
      "outputs": [
        {
          "output_type": "stream",
          "name": "stdout",
          "text": [
            "Digite seu peso (em kg): 58\n",
            "Digite sua altura (em metros): 1.72\n",
            "\n",
            "Seu IMC é: 19.61\n",
            "Você está no peso ideal.\n"
          ]
        }
      ]
    },
    {
      "cell_type": "markdown",
      "source": [
        "#**Aula 5** ⚫ ⛽ ❗"
      ],
      "metadata": {
        "id": "w8-mnLQZkG-g"
      }
    },
    {
      "cell_type": "code",
      "source": [
        "print(\"Olá, sou seu assitente virtual, em que posso te ajudar?\")\n",
        "nome = input(\"Digite seu nome: \")\n",
        "resposta = input(f\"Olá {nome}, qual tema você deseja conversar? Python, Javascript ou matemática: \").lower()\n",
        "if resposta == \"python\":\n",
        "  print(f\"Ótimo {nome}, vamos falar sobre Python. \\n O Python foi criado como um 'projeto de hobby' por Guido van Rossum durante as férias de Natal de 1989, para mantê-lo ocupado.\")\n",
        "if resposta == \"javascript\":\n",
        "  print(f\"Ótimo {nome}, vamos falar sobre Javascript. \\n A linguagem JavaScript foi criada em apenas dez dias.\")\n",
        "if resposta == \"matemática\":\n",
        "  print(f\"Ótimo {nome}, vamos falar sobre Matemática. \\n Na matemática, o infinito não é um número — é um conceito sem fim!\")\n",
        "else :\n",
        "  print(f\"Que pena {nome}, não sei falar sobre esse assunto.\")"
      ],
      "metadata": {
        "colab": {
          "base_uri": "https://localhost:8080/"
        },
        "id": "PJNubf-ekh5R",
        "outputId": "a9177c71-28cc-4b5b-a76c-176546828c5a"
      },
      "execution_count": 14,
      "outputs": [
        {
          "output_type": "stream",
          "name": "stdout",
          "text": [
            "Olá, sou seu assitente virtual, em que posso te ajudar?\n",
            "Digite seu nome: jj\n",
            "Olá jj, qual tema você deseja conversar? Python, Javascript ou matemática: javascript\n",
            "Ótimo jj, vamos falar sobre Javascript.\n",
            "Que pena jj, não sei falar sobre esse assunto.\n"
          ]
        }
      ]
    },
    {
      "cell_type": "markdown",
      "source": [
        "#**Aula 6 Listas**  💻 🎭 🤐"
      ],
      "metadata": {
        "id": "acXje-rByMEd"
      }
    },
    {
      "cell_type": "code",
      "source": [],
      "metadata": {
        "id": "f-rq35ziyx4L"
      },
      "execution_count": null,
      "outputs": []
    }
  ]
}