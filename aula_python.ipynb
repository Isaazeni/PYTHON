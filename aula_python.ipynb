{
  "nbformat": 4,
  "nbformat_minor": 0,
  "metadata": {
    "colab": {
      "provenance": [],
      "authorship_tag": "ABX9TyPpQ8nQBi7wDMjbRHqa4Tme",
      "include_colab_link": true
    },
    "kernelspec": {
      "name": "python3",
      "display_name": "Python 3"
    },
    "language_info": {
      "name": "python"
    }
  },
  "cells": [
    {
      "cell_type": "markdown",
      "metadata": {
        "id": "view-in-github",
        "colab_type": "text"
      },
      "source": [
        "<a href=\"https://colab.research.google.com/github/Isaazeni/PYTHON/blob/main/aula_python.ipynb\" target=\"_parent\"><img src=\"https://colab.research.google.com/assets/colab-badge.svg\" alt=\"Open In Colab\"/></a>"
      ]
    },
    {
      "cell_type": "code",
      "execution_count": null,
      "metadata": {
        "id": "wssouf0Khbg7"
      },
      "outputs": [],
      "source": []
    },
    {
      "cell_type": "markdown",
      "source": [
        "**Aula 1** ⛳ 🥉 ⚽"
      ],
      "metadata": {
        "id": "usjnGcCAhnvk"
      }
    },
    {
      "cell_type": "code",
      "source": [
        "print (\"I competição de programação da start\")\n",
        "ano = \"IX\"\n",
        "print (\"{ano} competição de programa da start\")"
      ],
      "metadata": {
        "id": "vGbo4A2MiR2c"
      },
      "execution_count": null,
      "outputs": []
    }
  ]
}