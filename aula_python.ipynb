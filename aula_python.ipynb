{
  "nbformat": 4,
  "nbformat_minor": 0,
  "metadata": {
    "colab": {
      "provenance": [],
      "authorship_tag": "ABX9TyNQ8sDmhHIHb+MxyvjcNXx0",
      "include_colab_link": true
    },
    "kernelspec": {
      "name": "python3",
      "display_name": "Python 3"
    },
    "language_info": {
      "name": "python"
    }
  },
  "cells": [
    {
      "cell_type": "markdown",
      "metadata": {
        "id": "view-in-github",
        "colab_type": "text"
      },
      "source": [
        "<a href=\"https://colab.research.google.com/github/Isaazeni/PYTHON/blob/main/aula_python.ipynb\" target=\"_parent\"><img src=\"https://colab.research.google.com/assets/colab-badge.svg\" alt=\"Open In Colab\"/></a>"
      ]
    },
    {
      "cell_type": "code",
      "execution_count": null,
      "metadata": {
        "id": "wssouf0Khbg7"
      },
      "outputs": [],
      "source": []
    },
    {
      "cell_type": "markdown",
      "source": [
        "**Aula 1** ⛳ 🥉 ⚽"
      ],
      "metadata": {
        "id": "usjnGcCAhnvk"
      }
    },
    {
      "cell_type": "code",
      "source": [
        "print (\"I competição de programação da start\")\n",
        "ano = \"IX\"\n",
        "print (\"{ano} competição de programa da start\")"
      ],
      "metadata": {
        "id": "vGbo4A2MiR2c"
      },
      "execution_count": null,
      "outputs": []
    },
    {
      "cell_type": "markdown",
      "source": [
        "**Aula 2**  ⛽ ✨ 🚲"
      ],
      "metadata": {
        "id": "q6bQO9Wsotm1"
      }
    },
    {
      "cell_type": "code",
      "source": [
        "livro_ficcao = 8\n",
        "livro_n_ficcao = 10\n",
        "livro_infantil = 6\n",
        "pontos_rodrigo = livro_ficcao + livro_n_ficcao + livro_infantil\n",
        "pontos_ana = 2 * livro_ficcao + 5 * livro_infantil\n",
        "pontos_totais = pontos_rodrigo + pontos_ana\n",
        "print(f\"Os pontos totais do Rodrigo são {pontos_rodrigo}\")\n",
        "print(f\"Os pontos totais do Ana são {pontos_ana}\")\n",
        "print(f\"Os pontos totais do Rodrigo e de ana são {pontos_totais}\")"
      ],
      "metadata": {
        "colab": {
          "base_uri": "https://localhost:8080/"
        },
        "id": "LnjlKXAPo9tI",
        "outputId": "0cc7a925-97ac-4390-cfb0-9d604ffd3e51"
      },
      "execution_count": 3,
      "outputs": [
        {
          "output_type": "stream",
          "name": "stdout",
          "text": [
            "Os pontos totais do Rodrigo são 24\n",
            "Os pontos totais do Ana são 46\n",
            "Os pontos totais do Rodrigo e de ana são 70\n"
          ]
        }
      ]
    }
  ]
}